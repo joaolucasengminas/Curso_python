{
 "cells": [
  {
   "cell_type": "markdown",
   "metadata": {},
   "source": [
    "# sklearn \n",
    "\n",
    "in this module we'll be using the scikit-learn package for machine learning"
   ]
  },
  {
   "cell_type": "code",
   "execution_count": 49,
   "metadata": {},
   "outputs": [],
   "source": [
    "import numpy as np\n",
    "import pandas as pd\n",
    "import matplotlib.pyplot as plt"
   ]
  },
  {
   "cell_type": "code",
   "execution_count": 50,
   "metadata": {},
   "outputs": [
    {
     "data": {
      "text/html": [
       "<div>\n",
       "<style scoped>\n",
       "    .dataframe tbody tr th:only-of-type {\n",
       "        vertical-align: middle;\n",
       "    }\n",
       "\n",
       "    .dataframe tbody tr th {\n",
       "        vertical-align: top;\n",
       "    }\n",
       "\n",
       "    .dataframe thead th {\n",
       "        text-align: right;\n",
       "    }\n",
       "</style>\n",
       "<table border=\"1\" class=\"dataframe\">\n",
       "  <thead>\n",
       "    <tr style=\"text-align: right;\">\n",
       "      <th></th>\n",
       "      <th>Xloc</th>\n",
       "      <th>Yloc</th>\n",
       "      <th>Landuse</th>\n",
       "      <th>Rock</th>\n",
       "      <th>Cd</th>\n",
       "      <th>Co</th>\n",
       "      <th>Cr</th>\n",
       "      <th>Cu</th>\n",
       "      <th>Ni</th>\n",
       "      <th>Pb</th>\n",
       "      <th>Zn</th>\n",
       "    </tr>\n",
       "  </thead>\n",
       "  <tbody>\n",
       "    <tr>\n",
       "      <th>0</th>\n",
       "      <td>238.6</td>\n",
       "      <td>307.7</td>\n",
       "      <td>3</td>\n",
       "      <td>3</td>\n",
       "      <td>1.740</td>\n",
       "      <td>9.32</td>\n",
       "      <td>38.32</td>\n",
       "      <td>25.72</td>\n",
       "      <td>21.32</td>\n",
       "      <td>77.36</td>\n",
       "      <td>92.56</td>\n",
       "    </tr>\n",
       "    <tr>\n",
       "      <th>1</th>\n",
       "      <td>254.4</td>\n",
       "      <td>197.2</td>\n",
       "      <td>2</td>\n",
       "      <td>2</td>\n",
       "      <td>1.335</td>\n",
       "      <td>10.00</td>\n",
       "      <td>40.20</td>\n",
       "      <td>24.76</td>\n",
       "      <td>29.72</td>\n",
       "      <td>77.88</td>\n",
       "      <td>73.56</td>\n",
       "    </tr>\n",
       "    <tr>\n",
       "      <th>2</th>\n",
       "      <td>280.7</td>\n",
       "      <td>334.7</td>\n",
       "      <td>2</td>\n",
       "      <td>3</td>\n",
       "      <td>1.610</td>\n",
       "      <td>10.60</td>\n",
       "      <td>47.00</td>\n",
       "      <td>8.88</td>\n",
       "      <td>21.40</td>\n",
       "      <td>30.80</td>\n",
       "      <td>64.80</td>\n",
       "    </tr>\n",
       "    <tr>\n",
       "      <th>3</th>\n",
       "      <td>430.8</td>\n",
       "      <td>193.3</td>\n",
       "      <td>3</td>\n",
       "      <td>2</td>\n",
       "      <td>2.150</td>\n",
       "      <td>11.92</td>\n",
       "      <td>43.52</td>\n",
       "      <td>22.70</td>\n",
       "      <td>29.72</td>\n",
       "      <td>56.40</td>\n",
       "      <td>90.00</td>\n",
       "    </tr>\n",
       "    <tr>\n",
       "      <th>4</th>\n",
       "      <td>438.3</td>\n",
       "      <td>108.1</td>\n",
       "      <td>3</td>\n",
       "      <td>5</td>\n",
       "      <td>1.565</td>\n",
       "      <td>16.32</td>\n",
       "      <td>38.52</td>\n",
       "      <td>34.32</td>\n",
       "      <td>26.20</td>\n",
       "      <td>66.40</td>\n",
       "      <td>88.40</td>\n",
       "    </tr>\n",
       "    <tr>\n",
       "      <th>...</th>\n",
       "      <td>...</td>\n",
       "      <td>...</td>\n",
       "      <td>...</td>\n",
       "      <td>...</td>\n",
       "      <td>...</td>\n",
       "      <td>...</td>\n",
       "      <td>...</td>\n",
       "      <td>...</td>\n",
       "      <td>...</td>\n",
       "      <td>...</td>\n",
       "      <td>...</td>\n",
       "    </tr>\n",
       "    <tr>\n",
       "      <th>254</th>\n",
       "      <td>428.3</td>\n",
       "      <td>327.8</td>\n",
       "      <td>3</td>\n",
       "      <td>2</td>\n",
       "      <td>0.844</td>\n",
       "      <td>13.88</td>\n",
       "      <td>37.12</td>\n",
       "      <td>21.04</td>\n",
       "      <td>26.48</td>\n",
       "      <td>34.68</td>\n",
       "      <td>90.00</td>\n",
       "    </tr>\n",
       "    <tr>\n",
       "      <th>255</th>\n",
       "      <td>353.0</td>\n",
       "      <td>499.9</td>\n",
       "      <td>1</td>\n",
       "      <td>1</td>\n",
       "      <td>0.490</td>\n",
       "      <td>7.44</td>\n",
       "      <td>34.52</td>\n",
       "      <td>4.64</td>\n",
       "      <td>16.76</td>\n",
       "      <td>31.64</td>\n",
       "      <td>56.80</td>\n",
       "    </tr>\n",
       "    <tr>\n",
       "      <th>256</th>\n",
       "      <td>407.0</td>\n",
       "      <td>415.7</td>\n",
       "      <td>3</td>\n",
       "      <td>3</td>\n",
       "      <td>1.916</td>\n",
       "      <td>14.36</td>\n",
       "      <td>47.60</td>\n",
       "      <td>45.60</td>\n",
       "      <td>28.44</td>\n",
       "      <td>50.00</td>\n",
       "      <td>90.80</td>\n",
       "    </tr>\n",
       "    <tr>\n",
       "      <th>257</th>\n",
       "      <td>461.0</td>\n",
       "      <td>331.5</td>\n",
       "      <td>1</td>\n",
       "      <td>2</td>\n",
       "      <td>1.384</td>\n",
       "      <td>12.68</td>\n",
       "      <td>30.76</td>\n",
       "      <td>7.48</td>\n",
       "      <td>20.72</td>\n",
       "      <td>48.00</td>\n",
       "      <td>46.80</td>\n",
       "    </tr>\n",
       "    <tr>\n",
       "      <th>258</th>\n",
       "      <td>360.5</td>\n",
       "      <td>534.5</td>\n",
       "      <td>3</td>\n",
       "      <td>3</td>\n",
       "      <td>0.849</td>\n",
       "      <td>9.04</td>\n",
       "      <td>29.48</td>\n",
       "      <td>18.40</td>\n",
       "      <td>17.56</td>\n",
       "      <td>35.00</td>\n",
       "      <td>58.00</td>\n",
       "    </tr>\n",
       "  </tbody>\n",
       "</table>\n",
       "<p>259 rows × 11 columns</p>\n",
       "</div>"
      ],
      "text/plain": [
       "      Xloc   Yloc  Landuse  Rock     Cd     Co     Cr     Cu     Ni     Pb  \\\n",
       "0    238.6  307.7        3     3  1.740   9.32  38.32  25.72  21.32  77.36   \n",
       "1    254.4  197.2        2     2  1.335  10.00  40.20  24.76  29.72  77.88   \n",
       "2    280.7  334.7        2     3  1.610  10.60  47.00   8.88  21.40  30.80   \n",
       "3    430.8  193.3        3     2  2.150  11.92  43.52  22.70  29.72  56.40   \n",
       "4    438.3  108.1        3     5  1.565  16.32  38.52  34.32  26.20  66.40   \n",
       "..     ...    ...      ...   ...    ...    ...    ...    ...    ...    ...   \n",
       "254  428.3  327.8        3     2  0.844  13.88  37.12  21.04  26.48  34.68   \n",
       "255  353.0  499.9        1     1  0.490   7.44  34.52   4.64  16.76  31.64   \n",
       "256  407.0  415.7        3     3  1.916  14.36  47.60  45.60  28.44  50.00   \n",
       "257  461.0  331.5        1     2  1.384  12.68  30.76   7.48  20.72  48.00   \n",
       "258  360.5  534.5        3     3  0.849   9.04  29.48  18.40  17.56  35.00   \n",
       "\n",
       "        Zn  \n",
       "0    92.56  \n",
       "1    73.56  \n",
       "2    64.80  \n",
       "3    90.00  \n",
       "4    88.40  \n",
       "..     ...  \n",
       "254  90.00  \n",
       "255  56.80  \n",
       "256  90.80  \n",
       "257  46.80  \n",
       "258  58.00  \n",
       "\n",
       "[259 rows x 11 columns]"
      ]
     },
     "execution_count": 50,
     "metadata": {},
     "output_type": "execute_result"
    }
   ],
   "source": [
    "jura = pd.read_csv('data/jura.csv')\n",
    "jura"
   ]
  },
  {
   "cell_type": "code",
   "execution_count": 51,
   "metadata": {},
   "outputs": [],
   "source": [
    "from sklearn import preprocessing"
   ]
  },
  {
   "cell_type": "code",
   "execution_count": 52,
   "metadata": {},
   "outputs": [],
   "source": [
    "x = jura[['Cd','Co','Cr','Ni','Pb','Zn']]"
   ]
  },
  {
   "cell_type": "code",
   "execution_count": 53,
   "metadata": {},
   "outputs": [],
   "source": [
    "scaler = preprocessing.StandardScaler()"
   ]
  },
  {
   "cell_type": "code",
   "execution_count": 54,
   "metadata": {},
   "outputs": [
    {
     "data": {
      "text/plain": [
       "StandardScaler(copy=True, with_mean=True, with_std=True)"
      ]
     },
     "execution_count": 54,
     "metadata": {},
     "output_type": "execute_result"
    }
   ],
   "source": [
    "scaler.fit(x)"
   ]
  },
  {
   "cell_type": "code",
   "execution_count": 70,
   "metadata": {},
   "outputs": [],
   "source": [
    "x_trans = scaler.transform(x)"
   ]
  },
  {
   "cell_type": "code",
   "execution_count": 71,
   "metadata": {},
   "outputs": [],
   "source": [
    "rt = jura.Rock"
   ]
  },
  {
   "cell_type": "code",
   "execution_count": 72,
   "metadata": {},
   "outputs": [],
   "source": [
    "ohe = preprocessing.OneHotEncoder()"
   ]
  },
  {
   "cell_type": "code",
   "execution_count": 73,
   "metadata": {},
   "outputs": [
    {
     "name": "stderr",
     "output_type": "stream",
     "text": [
      "C:\\Users\\jlalv\\Anaconda3\\envs\\curso_python\\lib\\site-packages\\sklearn\\preprocessing\\_encoders.py:415: FutureWarning: The handling of integer data will change in version 0.22. Currently, the categories are determined based on the range [0, max(values)], while in the future they will be determined based on the unique values.\n",
      "If you want the future behaviour and silence this warning, you can specify \"categories='auto'\".\n",
      "In case you used a LabelEncoder before this OneHotEncoder to convert the categories to integers, then you can now use the OneHotEncoder directly.\n",
      "  warnings.warn(msg, FutureWarning)\n"
     ]
    },
    {
     "data": {
      "text/plain": [
       "OneHotEncoder(categorical_features=None, categories=None, drop=None,\n",
       "              dtype=<class 'numpy.float64'>, handle_unknown='error',\n",
       "              n_values=None, sparse=True)"
      ]
     },
     "execution_count": 73,
     "metadata": {},
     "output_type": "execute_result"
    }
   ],
   "source": [
    "ohe.fit(rt.values.reshape(-1,1))"
   ]
  },
  {
   "cell_type": "code",
   "execution_count": 74,
   "metadata": {},
   "outputs": [],
   "source": [
    "id = ohe.transform(rt.values.reshape(-1,1))"
   ]
  },
  {
   "cell_type": "code",
   "execution_count": 75,
   "metadata": {},
   "outputs": [],
   "source": [
    "id = id.toarray()"
   ]
  },
  {
   "cell_type": "code",
   "execution_count": 76,
   "metadata": {},
   "outputs": [
    {
     "data": {
      "text/plain": [
       "array([[0., 0., 1., 0., 0.],\n",
       "       [0., 1., 0., 0., 0.],\n",
       "       [0., 0., 1., 0., 0.],\n",
       "       ...,\n",
       "       [0., 0., 1., 0., 0.],\n",
       "       [0., 1., 0., 0., 0.],\n",
       "       [0., 0., 1., 0., 0.]])"
      ]
     },
     "execution_count": 76,
     "metadata": {},
     "output_type": "execute_result"
    }
   ],
   "source": [
    "id"
   ]
  },
  {
   "cell_type": "code",
   "execution_count": 77,
   "metadata": {},
   "outputs": [],
   "source": [
    "from sklearn import decomposition"
   ]
  },
  {
   "cell_type": "code",
   "execution_count": 78,
   "metadata": {},
   "outputs": [],
   "source": [
    "pca = decomposition.PCA()"
   ]
  },
  {
   "cell_type": "code",
   "execution_count": 79,
   "metadata": {},
   "outputs": [
    {
     "data": {
      "text/plain": [
       "array([[ 2.90285077e+01,  4.86601782e+00, -1.06543221e+00,\n",
       "         9.46155922e-01,  3.05870382e-01,  1.45352975e-01],\n",
       "       [ 1.76409875e+01,  1.48371239e+01,  1.18914163e+01,\n",
       "        -4.86084745e+00,  2.60140164e+00, -2.89790718e-03],\n",
       "       [-2.07994162e+01, -1.39129809e+01,  1.17401475e+01,\n",
       "         4.58446117e+00, -1.35588340e+00,  1.76034413e-01],\n",
       "       ...,\n",
       "       [ 1.15387746e+01, -1.77855561e+01,  8.11939778e+00,\n",
       "        -1.28346574e+00, -2.05945600e+00,  1.75790998e-01],\n",
       "       [-2.40954564e+01,  1.38922129e+01,  7.87446666e+00,\n",
       "        -4.77144440e+00, -2.53539874e+00,  9.22410483e-01],\n",
       "       [-2.60978946e+01, -1.10992132e+00, -7.42647008e-01,\n",
       "        -1.68114595e+00, -1.57259034e-01, -1.10010957e-01]])"
      ]
     },
     "execution_count": 79,
     "metadata": {},
     "output_type": "execute_result"
    }
   ],
   "source": [
    "pca.fit_transform(x)"
   ]
  },
  {
   "cell_type": "code",
   "execution_count": 80,
   "metadata": {},
   "outputs": [],
   "source": [
    "from sklearn import cluster"
   ]
  },
  {
   "cell_type": "code",
   "execution_count": 81,
   "metadata": {},
   "outputs": [],
   "source": [
    "kmeans = cluster.KMeans()"
   ]
  },
  {
   "cell_type": "code",
   "execution_count": 90,
   "metadata": {},
   "outputs": [
    {
     "data": {
      "text/plain": [
       "array([0, 0, 7, 5, 0, 0, 0, 3, 1, 5, 4, 7, 6, 1, 7, 1, 6, 6, 1, 3, 4, 5,\n",
       "       5, 4, 5, 0, 7, 0, 6, 3, 4, 5, 1, 4, 1, 7, 5, 0, 5, 2, 1, 4, 5, 0,\n",
       "       4, 7, 3, 1, 7, 7, 0, 0, 7, 0, 5, 1, 5, 5, 6, 5, 5, 6, 7, 4, 0, 1,\n",
       "       0, 4, 6, 4, 5, 5, 4, 7, 5, 7, 5, 0, 7, 3, 0, 6, 1, 1, 6, 4, 5, 5,\n",
       "       7, 5, 6, 7, 5, 1, 7, 6, 5, 5, 4, 6, 5, 3, 5, 5, 4, 3, 7, 2, 7, 7,\n",
       "       7, 5, 7, 1, 7, 5, 7, 7, 6, 5, 5, 5, 1, 1, 3, 7, 4, 1, 1, 6, 5, 7,\n",
       "       6, 0, 1, 0, 7, 6, 6, 0, 6, 0, 5, 4, 5, 0, 7, 6, 2, 7, 5, 7, 0, 0,\n",
       "       5, 0, 7, 1, 1, 5, 4, 5, 5, 4, 6, 1, 7, 7, 3, 1, 4, 7, 7, 4, 7, 0,\n",
       "       7, 1, 5, 5, 5, 0, 0, 2, 0, 0, 5, 1, 1, 3, 7, 7, 4, 6, 1, 5, 5, 4,\n",
       "       6, 0, 3, 0, 2, 0, 5, 5, 0, 6, 6, 1, 5, 7, 5, 5, 1, 3, 0, 7, 0, 6,\n",
       "       6, 6, 1, 5, 5, 6, 6, 6, 5, 0, 6, 7, 1, 7, 0, 6, 7, 1, 7, 7, 7, 7,\n",
       "       5, 6, 6, 6, 7, 0, 5, 0, 7, 7, 0, 4, 5, 7, 5, 1, 7])"
      ]
     },
     "execution_count": 90,
     "metadata": {},
     "output_type": "execute_result"
    }
   ],
   "source": [
    "kmeans.fit(x)\n",
    "labels = kmeans.labels_\n",
    "labels"
   ]
  },
  {
   "cell_type": "code",
   "execution_count": 88,
   "metadata": {},
   "outputs": [
    {
     "data": {
      "text/plain": [
       "<function matplotlib.pyplot.show(*args, **kw)>"
      ]
     },
     "execution_count": 88,
     "metadata": {},
     "output_type": "execute_result"
    },
    {
     "data": {
      "image/png": "[encoded data removed]",
      "text/plain": [
       "<Figure size 720x720 with 2 Axes>"
      ]
     },
     "metadata": {
      "needs_background": "light"
     },
     "output_type": "display_data"
    }
   ],
   "source": [
    "plt.figure(figsize=(10,10))\n",
    "plt.scatter(jura['Xloc'], jura['Yloc'], c=labels, cmap = plt.cm.get_cmap('Set1',4))\n",
    "plt.axis('scaled')\n",
    "plt.colorbar(ticks=range(6))\n",
    "plt.show"
   ]
  },
  {
   "cell_type": "code",
   "execution_count": 93,
   "metadata": {},
   "outputs": [],
   "source": [
    "#Removendo 10% das amostras de Rock aleatoriamente.\n",
    "indexes = np.random.randint(0,len(jura['Rock']),int(len(jura['Rock']*0.1)))\n",
    "removed_cat = jura['Rock'].values.copy()\n",
    "removed_cat[indexes] = -99\n",
    "removed_cat = np.where(removed_cat == -99, np.nan, removed_cat)\n",
    "jura['removed_cat'] = removed_cat"
   ]
  },
  {
   "cell_type": "code",
   "execution_count": 98,
   "metadata": {},
   "outputs": [
    {
     "data": {
      "text/plain": [
       "0      NaN\n",
       "1      2.0\n",
       "2      3.0\n",
       "3      NaN\n",
       "4      5.0\n",
       "      ... \n",
       "254    NaN\n",
       "255    1.0\n",
       "256    NaN\n",
       "257    NaN\n",
       "258    NaN\n",
       "Name: removed_cat, Length: 259, dtype: float64"
      ]
     },
     "execution_count": 98,
     "metadata": {},
     "output_type": "execute_result"
    }
   ],
   "source": [
    "jura.removed_cat"
   ]
  },
  {
   "cell_type": "code",
   "execution_count": 95,
   "metadata": {},
   "outputs": [],
   "source": [
    "x_train = jura.dropna()[['Cd','Co','Cu','Ni','Pb','Zn']]"
   ]
  },
  {
   "cell_type": "code",
   "execution_count": 96,
   "metadata": {},
   "outputs": [],
   "source": [
    "y_train = jura.dropna()[['removed_cat']]"
   ]
  },
  {
   "cell_type": "code",
   "execution_count": 97,
   "metadata": {},
   "outputs": [],
   "source": [
    "filtro = np.isnan(jura['removed_cat'])\n",
    "x_prediction = jura[['Cd','Co','Cu','Ni','Pb','Zn']][filtro].values"
   ]
  },
  {
   "cell_type": "code",
   "execution_count": 99,
   "metadata": {},
   "outputs": [
    {
     "name": "stderr",
     "output_type": "stream",
     "text": [
      "C:\\Users\\jlalv\\Anaconda3\\envs\\curso_python\\lib\\site-packages\\sklearn\\ensemble\\forest.py:245: FutureWarning: The default value of n_estimators will change from 10 in version 0.20 to 100 in 0.22.\n",
      "  \"10 in version 0.20 to 100 in 0.22.\", FutureWarning)\n",
      "C:\\Users\\jlalv\\Anaconda3\\envs\\curso_python\\lib\\site-packages\\ipykernel_launcher.py:5: DataConversionWarning: A column-vector y was passed when a 1d array was expected. Please change the shape of y to (n_samples,), for example using ravel().\n",
      "  \"\"\"\n"
     ]
    },
    {
     "data": {
      "text/plain": [
       "array([2., 2., 1., 1., 3., 3., 1., 1., 1., 1., 2., 2., 1., 5., 3., 2., 2.,\n",
       "       3., 3., 1., 2., 5., 3., 3., 3., 3., 1., 1., 5., 1., 3., 5., 3., 1.,\n",
       "       5., 1., 3., 1., 3., 2., 3., 3., 1., 3., 3., 2., 2., 2., 5., 1., 2.,\n",
       "       5., 3., 1., 1., 5., 2., 2., 2., 1., 5., 3., 1., 3., 3., 1., 1., 3.,\n",
       "       2., 1., 2., 1., 2., 1., 2., 1., 1., 5., 1., 1., 1., 1., 5., 5., 2.,\n",
       "       2., 2., 5., 2., 2., 2., 2., 5., 1., 3., 1., 5., 1., 3., 1., 3., 3.,\n",
       "       1., 5., 1., 5., 2., 3., 5., 1., 5., 1., 3., 3., 5., 5., 1., 5., 5.,\n",
       "       2., 3., 1., 1., 5., 2., 5., 3., 3., 1., 2., 3., 1., 5., 5., 1., 2.,\n",
       "       5., 5., 5., 3., 1., 3., 3., 5., 2., 3., 3., 2., 2., 3., 3., 1., 1.,\n",
       "       3., 3., 2., 2., 2., 5., 1., 3.])"
      ]
     },
     "execution_count": 99,
     "metadata": {},
     "output_type": "execute_result"
    }
   ],
   "source": [
    "from sklearn import ensemble\n",
    "\n",
    "rf = ensemble.RandomForestClassifier()\n",
    "\n",
    "rf.fit(x_train, y_train)\n",
    "\n",
    "rf.predict(x_prediction)"
   ]
  },
  {
   "cell_type": "code",
   "execution_count": 102,
   "metadata": {},
   "outputs": [],
   "source": [
    "indexes = np.random.randint(0, len(jura['Cd']), int(len(jura['Cd'])*0.1))\n",
    "removed_cd = jura['Cd'].values.copy()\n",
    "removed_cd[indexes] = -99\n",
    "removed_cd = np.where(removed_cd == -99, np.nan, removed_cd)\n",
    "jura['removed_cd'] = removed_cd"
   ]
  },
  {
   "cell_type": "code",
   "execution_count": 103,
   "metadata": {},
   "outputs": [],
   "source": [
    "jura.drop(columns=['removed_cat'], inplace=True)\n",
    "X_train = X_train = jura.dropna()[['Co','Cu','Ni','Pb','Zn']]"
   ]
  },
  {
   "cell_type": "code",
   "execution_count": 105,
   "metadata": {},
   "outputs": [],
   "source": [
    "Y_train = Y_train = jura.dropna()[['removed_cd']] "
   ]
  },
  {
   "cell_type": "code",
   "execution_count": 107,
   "metadata": {},
   "outputs": [],
   "source": [
    "filtro = np.isnan(jura['removed_cd'])\n",
    "X_prediction = jura[['Co','Cu','Ni','Pb','Zn']][filtro].values"
   ]
  },
  {
   "cell_type": "code",
   "execution_count": 108,
   "metadata": {},
   "outputs": [
    {
     "name": "stderr",
     "output_type": "stream",
     "text": [
      "C:\\Users\\jlalv\\Anaconda3\\envs\\curso_python\\lib\\site-packages\\sklearn\\ensemble\\forest.py:245: FutureWarning: The default value of n_estimators will change from 10 in version 0.20 to 100 in 0.22.\n",
      "  \"10 in version 0.20 to 100 in 0.22.\", FutureWarning)\n",
      "C:\\Users\\jlalv\\Anaconda3\\envs\\curso_python\\lib\\site-packages\\ipykernel_launcher.py:2: DataConversionWarning: A column-vector y was passed when a 1d array was expected. Please change the shape of y to (n_samples,), for example using ravel().\n",
      "  \n"
     ]
    },
    {
     "data": {
      "text/plain": [
       "array([1.8483, 1.427 , 1.515 , 0.696 , 1.0495, 0.7015, 1.3868, 1.1353,\n",
       "       1.505 , 0.9188, 1.0504, 1.8115, 1.5009, 0.9927, 1.3965, 0.5735,\n",
       "       1.1649, 0.9354, 0.9645, 0.842 , 1.0645, 0.6574, 1.101 , 0.7858,\n",
       "       2.0578])"
      ]
     },
     "execution_count": 108,
     "metadata": {},
     "output_type": "execute_result"
    }
   ],
   "source": [
    "rf_reg = ensemble.RandomForestRegressor()\n",
    "rf_reg.fit(X_train, Y_train)\n",
    "rf_reg.predict(X_prediction)"
   ]
  },
  {
   "cell_type": "code",
   "execution_count": null,
   "metadata": {},
   "outputs": [],
   "source": []
  }
 ],
 "metadata": {
  "kernelspec": {
   "display_name": "Python 3",
   "language": "python",
   "name": "python3"
  },
  "language_info": {
   "codemirror_mode": {
    "name": "ipython",
    "version": 3
   },
   "file_extension": ".py",
   "mimetype": "text/x-python",
   "name": "python",
   "nbconvert_exporter": "python",
   "pygments_lexer": "ipython3",
   "version": "3.7.5"
  }
 },
 "nbformat": 4,
 "nbformat_minor": 2
}
