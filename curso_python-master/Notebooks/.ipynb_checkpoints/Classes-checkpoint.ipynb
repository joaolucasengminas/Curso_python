{
 "cells": [
  {
   "attachments": {},
   "cell_type": "markdown",
   "metadata": {},
   "source": [
    "# Class\n",
    "\n",
    "     Crie a classe grid e adicione um método auto_grid(), que recebe as coordenadas x, y, z de um point set e as dimensões dos blocos. Esse método altera os valores de nx, ny, nz e ox, oy, oz para cobrir todo o point set.\n",
    "\n",
    "    "
   ]
  },
  {
   "cell_type": "code",
   "execution_count": 2,
   "metadata": {},
   "outputs": [],
   "source": [
    "import numpy as np"
   ]
  },
  {
   "cell_type": "code",
   "execution_count": 18,
   "metadata": {},
   "outputs": [],
   "source": [
    "class Grid:\n",
    "    \n",
    "    def __init__(self, ox, oy, oz, nx, ny, nz, sx, sy, sz):\n",
    "        \n",
    "        self.ox = ox\n",
    "        self.oy = oy\n",
    "        self.oz = oz\n",
    "        \n",
    "        self.nx = nx\n",
    "        self.ny = ny\n",
    "        self.nz = nz\n",
    "        \n",
    "        self.sx = sx\n",
    "        self.sy = sy\n",
    "        self.sz = sz        \n",
    "        \n",
    "    def number_of_blocks(self):\n",
    "        \n",
    "        \"This method calculates the number of blocks on a grid\"\n",
    "        \n",
    "        return self.nx*self.ny*self.nz\n",
    "    \n",
    "    def auto_grid(self, cox, coy, coz, nsx, nsy, nsz):\n",
    "        \"Input your pointset coordinates\"\n",
    "        self.nx = (cox.max - cox.min)/sx\n",
    "        self.ny = (coy.max - coy.min)/sy\n",
    "        self.nz = (coz.max - coz.min)/sz\n",
    "        self.ox = cox.min\n",
    "        self.oy = coy.min\n",
    "        self.oz = coz.min\n",
    "        self.nsx = nsx\n",
    "        self.nsy = nsy\n",
    "        self.nsz = nsz\n",
    "        "
   ]
  },
  {
   "cell_type": "code",
   "execution_count": 19,
   "metadata": {
    "scrolled": true
   },
   "outputs": [
    {
     "data": {
      "text/plain": [
       "90000"
      ]
     },
     "execution_count": 19,
     "metadata": {},
     "output_type": "execute_result"
    }
   ],
   "source": [
    "estimation_grid = Grid(0, 0, 0, 75, 60, 20, 25, 25, 15)\n",
    "\n",
    "estimation_grid.number_of_blocks()"
   ]
  },
  {
   "cell_type": "markdown",
   "metadata": {},
   "source": [
    "self.nx = (cox.max - cox.min)/sx\n",
    "self.ny = (coy.max - coy.min)/sy\n",
    "self.nz = (coz.max - coz.min)/sz\n",
    "self.ox = cox.min\n",
    "self.oy = coy.min\n",
    "self.oz = coz.min"
   ]
  },
  {
   "cell_type": "code",
   "execution_count": 27,
   "metadata": {},
   "outputs": [],
   "source": [
    "cox = np.arange(3,100,2)\n",
    "coy = np.arange(3,100,2)\n",
    "coz = np.arange(3,100,2)\n",
    "\n"
   ]
  },
  {
   "cell_type": "code",
   "execution_count": null,
   "metadata": {},
   "outputs": [],
   "source": []
  },
  {
   "cell_type": "code",
   "execution_count": null,
   "metadata": {},
   "outputs": [],
   "source": []
  }
 ],
 "metadata": {
  "kernelspec": {
   "display_name": "Python 3",
   "language": "python",
   "name": "python3"
  },
  "language_info": {
   "codemirror_mode": {
    "name": "ipython",
    "version": 3
   },
   "file_extension": ".py",
   "mimetype": "text/x-python",
   "name": "python",
   "nbconvert_exporter": "python",
   "pygments_lexer": "ipython3",
   "version": "3.7.5"
  }
 },
 "nbformat": 4,
 "nbformat_minor": 2
}
