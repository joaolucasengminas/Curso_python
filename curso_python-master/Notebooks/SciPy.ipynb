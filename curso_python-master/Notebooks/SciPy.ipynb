{
 "cells": [
  {
   "cell_type": "code",
   "execution_count": 1,
   "metadata": {},
   "outputs": [],
   "source": [
    "import numpy as np\n",
    "import pandas as pd\n",
    "import matplotlib.pyplot as plt\n",
    "%matplotlib inline\n",
    "from scipy.interpolate import Rbf\n",
    "import itertools\n",
    "from scipy.spatial import KDTree"
   ]
  },
  {
   "cell_type": "code",
   "execution_count": 2,
   "metadata": {},
   "outputs": [],
   "source": [
    "walker = pd.read_csv('data/walker.csv', na_values = -999 )"
   ]
  },
  {
   "cell_type": "code",
   "execution_count": 3,
   "metadata": {},
   "outputs": [
    {
     "data": {
      "text/html": [
       "<div>\n",
       "<style scoped>\n",
       "    .dataframe tbody tr th:only-of-type {\n",
       "        vertical-align: middle;\n",
       "    }\n",
       "\n",
       "    .dataframe tbody tr th {\n",
       "        vertical-align: top;\n",
       "    }\n",
       "\n",
       "    .dataframe thead th {\n",
       "        text-align: right;\n",
       "    }\n",
       "</style>\n",
       "<table border=\"1\" class=\"dataframe\">\n",
       "  <thead>\n",
       "    <tr style=\"text-align: right;\">\n",
       "      <th></th>\n",
       "      <th>Id</th>\n",
       "      <th>X</th>\n",
       "      <th>Y</th>\n",
       "      <th>V</th>\n",
       "      <th>U</th>\n",
       "      <th>T</th>\n",
       "    </tr>\n",
       "  </thead>\n",
       "  <tbody>\n",
       "    <tr>\n",
       "      <th>0</th>\n",
       "      <td>1.0</td>\n",
       "      <td>11.0</td>\n",
       "      <td>8.0</td>\n",
       "      <td>0.0</td>\n",
       "      <td>NaN</td>\n",
       "      <td>2.0</td>\n",
       "    </tr>\n",
       "    <tr>\n",
       "      <th>1</th>\n",
       "      <td>2.0</td>\n",
       "      <td>8.0</td>\n",
       "      <td>30.0</td>\n",
       "      <td>0.0</td>\n",
       "      <td>NaN</td>\n",
       "      <td>2.0</td>\n",
       "    </tr>\n",
       "    <tr>\n",
       "      <th>2</th>\n",
       "      <td>3.0</td>\n",
       "      <td>9.0</td>\n",
       "      <td>48.0</td>\n",
       "      <td>224.4</td>\n",
       "      <td>NaN</td>\n",
       "      <td>2.0</td>\n",
       "    </tr>\n",
       "    <tr>\n",
       "      <th>3</th>\n",
       "      <td>4.0</td>\n",
       "      <td>8.0</td>\n",
       "      <td>69.0</td>\n",
       "      <td>434.4</td>\n",
       "      <td>NaN</td>\n",
       "      <td>2.0</td>\n",
       "    </tr>\n",
       "    <tr>\n",
       "      <th>4</th>\n",
       "      <td>5.0</td>\n",
       "      <td>9.0</td>\n",
       "      <td>90.0</td>\n",
       "      <td>412.1</td>\n",
       "      <td>NaN</td>\n",
       "      <td>2.0</td>\n",
       "    </tr>\n",
       "    <tr>\n",
       "      <th>...</th>\n",
       "      <td>...</td>\n",
       "      <td>...</td>\n",
       "      <td>...</td>\n",
       "      <td>...</td>\n",
       "      <td>...</td>\n",
       "      <td>...</td>\n",
       "    </tr>\n",
       "    <tr>\n",
       "      <th>465</th>\n",
       "      <td>466.0</td>\n",
       "      <td>214.0</td>\n",
       "      <td>19.0</td>\n",
       "      <td>242.5</td>\n",
       "      <td>15.6</td>\n",
       "      <td>2.0</td>\n",
       "    </tr>\n",
       "    <tr>\n",
       "      <th>466</th>\n",
       "      <td>467.0</td>\n",
       "      <td>245.0</td>\n",
       "      <td>231.0</td>\n",
       "      <td>161.2</td>\n",
       "      <td>26.1</td>\n",
       "      <td>2.0</td>\n",
       "    </tr>\n",
       "    <tr>\n",
       "      <th>467</th>\n",
       "      <td>468.0</td>\n",
       "      <td>233.0</td>\n",
       "      <td>220.0</td>\n",
       "      <td>626.0</td>\n",
       "      <td>959.7</td>\n",
       "      <td>2.0</td>\n",
       "    </tr>\n",
       "    <tr>\n",
       "      <th>468</th>\n",
       "      <td>469.0</td>\n",
       "      <td>226.0</td>\n",
       "      <td>221.0</td>\n",
       "      <td>800.1</td>\n",
       "      <td>1681.5</td>\n",
       "      <td>2.0</td>\n",
       "    </tr>\n",
       "    <tr>\n",
       "      <th>469</th>\n",
       "      <td>470.0</td>\n",
       "      <td>213.0</td>\n",
       "      <td>218.0</td>\n",
       "      <td>482.6</td>\n",
       "      <td>476.2</td>\n",
       "      <td>2.0</td>\n",
       "    </tr>\n",
       "  </tbody>\n",
       "</table>\n",
       "<p>470 rows × 6 columns</p>\n",
       "</div>"
      ],
      "text/plain": [
       "        Id      X      Y      V       U    T\n",
       "0      1.0   11.0    8.0    0.0     NaN  2.0\n",
       "1      2.0    8.0   30.0    0.0     NaN  2.0\n",
       "2      3.0    9.0   48.0  224.4     NaN  2.0\n",
       "3      4.0    8.0   69.0  434.4     NaN  2.0\n",
       "4      5.0    9.0   90.0  412.1     NaN  2.0\n",
       "..     ...    ...    ...    ...     ...  ...\n",
       "465  466.0  214.0   19.0  242.5    15.6  2.0\n",
       "466  467.0  245.0  231.0  161.2    26.1  2.0\n",
       "467  468.0  233.0  220.0  626.0   959.7  2.0\n",
       "468  469.0  226.0  221.0  800.1  1681.5  2.0\n",
       "469  470.0  213.0  218.0  482.6   476.2  2.0\n",
       "\n",
       "[470 rows x 6 columns]"
      ]
     },
     "execution_count": 3,
     "metadata": {},
     "output_type": "execute_result"
    }
   ],
   "source": [
    "walker"
   ]
  },
  {
   "cell_type": "code",
   "execution_count": 4,
   "metadata": {},
   "outputs": [],
   "source": [
    "def add_coord(grid):\n",
    "    ox = grid['ox']\n",
    "    oy = grid['oy']\n",
    "    nx = grid['nx']\n",
    "    ny = grid['ny']\n",
    "    sx = grid['sx']\n",
    "    sy = grid['sy']\n",
    "    \n",
    "    x_coords = np.arange(ox, ox+(nx)*sx, sx)\n",
    "    y_coords = np.arange(oy, oy+(ny)*sy, sy)\n",
    "    \n",
    "    coords_array = []\n",
    "    \n",
    "    for x, y in itertools.product(x_coords, y_coords):\n",
    "        coords_array.append([x,y])\n",
    "        \n",
    "    return np.array (coords_array) \n",
    "    \n",
    "       "
   ]
  },
  {
   "cell_type": "code",
   "execution_count": 5,
   "metadata": {},
   "outputs": [],
   "source": [
    "grid = {'ox':0, 'oy':0, 'nx':10, 'ny':10, 'sx':2, 'sy':2}"
   ]
  },
  {
   "cell_type": "code",
   "execution_count": 6,
   "metadata": {},
   "outputs": [
    {
     "data": {
      "text/plain": [
       "array([[ 0,  0],\n",
       "       [ 0,  2],\n",
       "       [ 0,  4],\n",
       "       [ 0,  6],\n",
       "       [ 0,  8],\n",
       "       [ 0, 10],\n",
       "       [ 0, 12],\n",
       "       [ 0, 14],\n",
       "       [ 0, 16],\n",
       "       [ 0, 18],\n",
       "       [ 2,  0],\n",
       "       [ 2,  2],\n",
       "       [ 2,  4],\n",
       "       [ 2,  6],\n",
       "       [ 2,  8],\n",
       "       [ 2, 10],\n",
       "       [ 2, 12],\n",
       "       [ 2, 14],\n",
       "       [ 2, 16],\n",
       "       [ 2, 18],\n",
       "       [ 4,  0],\n",
       "       [ 4,  2],\n",
       "       [ 4,  4],\n",
       "       [ 4,  6],\n",
       "       [ 4,  8],\n",
       "       [ 4, 10],\n",
       "       [ 4, 12],\n",
       "       [ 4, 14],\n",
       "       [ 4, 16],\n",
       "       [ 4, 18],\n",
       "       [ 6,  0],\n",
       "       [ 6,  2],\n",
       "       [ 6,  4],\n",
       "       [ 6,  6],\n",
       "       [ 6,  8],\n",
       "       [ 6, 10],\n",
       "       [ 6, 12],\n",
       "       [ 6, 14],\n",
       "       [ 6, 16],\n",
       "       [ 6, 18],\n",
       "       [ 8,  0],\n",
       "       [ 8,  2],\n",
       "       [ 8,  4],\n",
       "       [ 8,  6],\n",
       "       [ 8,  8],\n",
       "       [ 8, 10],\n",
       "       [ 8, 12],\n",
       "       [ 8, 14],\n",
       "       [ 8, 16],\n",
       "       [ 8, 18],\n",
       "       [10,  0],\n",
       "       [10,  2],\n",
       "       [10,  4],\n",
       "       [10,  6],\n",
       "       [10,  8],\n",
       "       [10, 10],\n",
       "       [10, 12],\n",
       "       [10, 14],\n",
       "       [10, 16],\n",
       "       [10, 18],\n",
       "       [12,  0],\n",
       "       [12,  2],\n",
       "       [12,  4],\n",
       "       [12,  6],\n",
       "       [12,  8],\n",
       "       [12, 10],\n",
       "       [12, 12],\n",
       "       [12, 14],\n",
       "       [12, 16],\n",
       "       [12, 18],\n",
       "       [14,  0],\n",
       "       [14,  2],\n",
       "       [14,  4],\n",
       "       [14,  6],\n",
       "       [14,  8],\n",
       "       [14, 10],\n",
       "       [14, 12],\n",
       "       [14, 14],\n",
       "       [14, 16],\n",
       "       [14, 18],\n",
       "       [16,  0],\n",
       "       [16,  2],\n",
       "       [16,  4],\n",
       "       [16,  6],\n",
       "       [16,  8],\n",
       "       [16, 10],\n",
       "       [16, 12],\n",
       "       [16, 14],\n",
       "       [16, 16],\n",
       "       [16, 18],\n",
       "       [18,  0],\n",
       "       [18,  2],\n",
       "       [18,  4],\n",
       "       [18,  6],\n",
       "       [18,  8],\n",
       "       [18, 10],\n",
       "       [18, 12],\n",
       "       [18, 14],\n",
       "       [18, 16],\n",
       "       [18, 18]])"
      ]
     },
     "execution_count": 6,
     "metadata": {},
     "output_type": "execute_result"
    }
   ],
   "source": [
    "add_coord(grid)"
   ]
  },
  {
   "cell_type": "code",
   "execution_count": 7,
   "metadata": {},
   "outputs": [],
   "source": [
    "def autogrid(x, y, sx, sy):\n",
    "    nx = int((x.max()-x.min())/sx)\n",
    "    ny = int((y.max()-y.min())/sy)\n",
    "    ox = x.min()\n",
    "    oy = y.min()\n",
    "    \n",
    "    return {'ox':ox,'oy':oy,'nx':nx,'ny':ny, 'sx':sx, 'sy':sy}"
   ]
  },
  {
   "cell_type": "code",
   "execution_count": 8,
   "metadata": {},
   "outputs": [],
   "source": [
    "g = autogrid(walker.X, walker.Y, 5, 5)"
   ]
  },
  {
   "cell_type": "code",
   "execution_count": 9,
   "metadata": {},
   "outputs": [],
   "source": [
    "coords = add_coord(g)"
   ]
  },
  {
   "cell_type": "code",
   "execution_count": 10,
   "metadata": {},
   "outputs": [],
   "source": [
    "rbfi = Rbf(walker.X,\n",
    "           walker.Y,\n",
    "           np.zeros(len(walker.Y)),\n",
    "           walker.V,\n",
    "           smooth = 1)"
   ]
  },
  {
   "cell_type": "code",
   "execution_count": 11,
   "metadata": {},
   "outputs": [],
   "source": [
    "results = rbfi(coords.T[0],coords.T[1], np.zeros(len(coords.T[1])))"
   ]
  },
  {
   "cell_type": "code",
   "execution_count": 12,
   "metadata": {},
   "outputs": [],
   "source": [
    "def pixelplot (grid, values):\n",
    "    values = values.reshape(grid['ny'],grid['nx'], order='F')\n",
    "    plt.figure(figsize=(8,8))\n",
    "    plt.imshow(values, origin = 'lower')\n",
    "    plt.colorbar()\n",
    "    plt.show()"
   ]
  },
  {
   "cell_type": "code",
   "execution_count": 13,
   "metadata": {},
   "outputs": [
    {
     "data": {
      "image/png": "[encoded data removed]",
      "text/plain": [
       "<Figure size 576x576 with 2 Axes>"
      ]
     },
     "metadata": {
      "needs_background": "light"
     },
     "output_type": "display_data"
    }
   ],
   "source": [
    "pixelplot(g, results)"
   ]
  },
  {
   "cell_type": "code",
   "execution_count": 14,
   "metadata": {},
   "outputs": [],
   "source": [
    "def n_closest (xps, yps,grid_node, n):\n",
    "    samples_coord = np.vstack((xps,yps)).T\n",
    "    samples_kdtree = KDTree(samples_coord)\n",
    "    neighs = samples_kdtree.query(grid_node,n)\n",
    "    return neighs\n",
    "    "
   ]
  },
  {
   "cell_type": "code",
   "execution_count": 15,
   "metadata": {},
   "outputs": [],
   "source": [
    "node = np.array([[5,5]])"
   ]
  },
  {
   "cell_type": "code",
   "execution_count": 16,
   "metadata": {},
   "outputs": [
    {
     "data": {
      "text/plain": [
       "(array([[ 6.70820393, 25.17935662, 26.68332813, 33.9411255 , 35.51056181]]),\n",
       " array([[  0,   1,  15,  16, 209]]))"
      ]
     },
     "execution_count": 16,
     "metadata": {},
     "output_type": "execute_result"
    }
   ],
   "source": [
    "n_closest(walker.X, walker.Y, node, 5)"
   ]
  },
  {
   "cell_type": "code",
   "execution_count": 17,
   "metadata": {},
   "outputs": [],
   "source": [
    "from scipy.spatial import distance\n",
    "from scipy.spatial import distance_matrix"
   ]
  },
  {
   "cell_type": "code",
   "execution_count": 18,
   "metadata": {},
   "outputs": [],
   "source": [
    "def dist_mat (x, y):\n",
    "    samples_coord = np.vstack((x,y)).T\n",
    "    dist = distance.cdist(samples_coord, samples_coord)\n",
    "    return dist"
   ]
  },
  {
   "cell_type": "code",
   "execution_count": 19,
   "metadata": {},
   "outputs": [
    {
     "data": {
      "text/plain": [
       "array([[  0.        ,  22.20360331,  40.04996879, ..., 306.96579614,\n",
       "        302.64500657, 291.38290959],\n",
       "       [ 22.20360331,   0.        ,  18.02775638, ..., 294.49108645,\n",
       "        289.83616061, 278.15283569],\n",
       "       [ 40.04996879,  18.02775638,   0.        , ..., 282.41812973,\n",
       "        277.52117036, 265.54848898],\n",
       "       ...,\n",
       "       [306.96579614, 294.49108645, 282.41812973, ...,   0.        ,\n",
       "          7.07106781,  20.09975124],\n",
       "       [302.64500657, 289.83616061, 277.52117036, ...,   7.07106781,\n",
       "          0.        ,  13.34166406],\n",
       "       [291.38290959, 278.15283569, 265.54848898, ...,  20.09975124,\n",
       "         13.34166406,   0.        ]])"
      ]
     },
     "execution_count": 19,
     "metadata": {},
     "output_type": "execute_result"
    }
   ],
   "source": [
    "dist_mat(walker.X,walker.Y)"
   ]
  },
  {
   "cell_type": "code",
   "execution_count": 20,
   "metadata": {},
   "outputs": [],
   "source": [
    "from scipy import stats"
   ]
  },
  {
   "cell_type": "code",
   "execution_count": 21,
   "metadata": {},
   "outputs": [
    {
     "data": {
      "text/html": [
       "<div>\n",
       "<style scoped>\n",
       "    .dataframe tbody tr th:only-of-type {\n",
       "        vertical-align: middle;\n",
       "    }\n",
       "\n",
       "    .dataframe tbody tr th {\n",
       "        vertical-align: top;\n",
       "    }\n",
       "\n",
       "    .dataframe thead th {\n",
       "        text-align: right;\n",
       "    }\n",
       "</style>\n",
       "<table border=\"1\" class=\"dataframe\">\n",
       "  <thead>\n",
       "    <tr style=\"text-align: right;\">\n",
       "      <th></th>\n",
       "      <th>Id</th>\n",
       "      <th>X</th>\n",
       "      <th>Y</th>\n",
       "      <th>V</th>\n",
       "      <th>U</th>\n",
       "      <th>T</th>\n",
       "    </tr>\n",
       "  </thead>\n",
       "  <tbody>\n",
       "    <tr>\n",
       "      <th>195</th>\n",
       "      <td>196.0</td>\n",
       "      <td>40.0</td>\n",
       "      <td>71.0</td>\n",
       "      <td>76.2</td>\n",
       "      <td>1.1</td>\n",
       "      <td>2.0</td>\n",
       "    </tr>\n",
       "    <tr>\n",
       "      <th>196</th>\n",
       "      <td>197.0</td>\n",
       "      <td>21.0</td>\n",
       "      <td>69.0</td>\n",
       "      <td>284.3</td>\n",
       "      <td>7.8</td>\n",
       "      <td>2.0</td>\n",
       "    </tr>\n",
       "    <tr>\n",
       "      <th>197</th>\n",
       "      <td>198.0</td>\n",
       "      <td>28.0</td>\n",
       "      <td>80.0</td>\n",
       "      <td>606.8</td>\n",
       "      <td>105.3</td>\n",
       "      <td>2.0</td>\n",
       "    </tr>\n",
       "    <tr>\n",
       "      <th>198</th>\n",
       "      <td>199.0</td>\n",
       "      <td>29.0</td>\n",
       "      <td>59.0</td>\n",
       "      <td>772.7</td>\n",
       "      <td>1512.7</td>\n",
       "      <td>2.0</td>\n",
       "    </tr>\n",
       "    <tr>\n",
       "      <th>199</th>\n",
       "      <td>200.0</td>\n",
       "      <td>41.0</td>\n",
       "      <td>81.0</td>\n",
       "      <td>269.5</td>\n",
       "      <td>9.8</td>\n",
       "      <td>2.0</td>\n",
       "    </tr>\n",
       "    <tr>\n",
       "      <th>...</th>\n",
       "      <td>...</td>\n",
       "      <td>...</td>\n",
       "      <td>...</td>\n",
       "      <td>...</td>\n",
       "      <td>...</td>\n",
       "      <td>...</td>\n",
       "    </tr>\n",
       "    <tr>\n",
       "      <th>465</th>\n",
       "      <td>466.0</td>\n",
       "      <td>214.0</td>\n",
       "      <td>19.0</td>\n",
       "      <td>242.5</td>\n",
       "      <td>15.6</td>\n",
       "      <td>2.0</td>\n",
       "    </tr>\n",
       "    <tr>\n",
       "      <th>466</th>\n",
       "      <td>467.0</td>\n",
       "      <td>245.0</td>\n",
       "      <td>231.0</td>\n",
       "      <td>161.2</td>\n",
       "      <td>26.1</td>\n",
       "      <td>2.0</td>\n",
       "    </tr>\n",
       "    <tr>\n",
       "      <th>467</th>\n",
       "      <td>468.0</td>\n",
       "      <td>233.0</td>\n",
       "      <td>220.0</td>\n",
       "      <td>626.0</td>\n",
       "      <td>959.7</td>\n",
       "      <td>2.0</td>\n",
       "    </tr>\n",
       "    <tr>\n",
       "      <th>468</th>\n",
       "      <td>469.0</td>\n",
       "      <td>226.0</td>\n",
       "      <td>221.0</td>\n",
       "      <td>800.1</td>\n",
       "      <td>1681.5</td>\n",
       "      <td>2.0</td>\n",
       "    </tr>\n",
       "    <tr>\n",
       "      <th>469</th>\n",
       "      <td>470.0</td>\n",
       "      <td>213.0</td>\n",
       "      <td>218.0</td>\n",
       "      <td>482.6</td>\n",
       "      <td>476.2</td>\n",
       "      <td>2.0</td>\n",
       "    </tr>\n",
       "  </tbody>\n",
       "</table>\n",
       "<p>275 rows × 6 columns</p>\n",
       "</div>"
      ],
      "text/plain": [
       "        Id      X      Y      V       U    T\n",
       "195  196.0   40.0   71.0   76.2     1.1  2.0\n",
       "196  197.0   21.0   69.0  284.3     7.8  2.0\n",
       "197  198.0   28.0   80.0  606.8   105.3  2.0\n",
       "198  199.0   29.0   59.0  772.7  1512.7  2.0\n",
       "199  200.0   41.0   81.0  269.5     9.8  2.0\n",
       "..     ...    ...    ...    ...     ...  ...\n",
       "465  466.0  214.0   19.0  242.5    15.6  2.0\n",
       "466  467.0  245.0  231.0  161.2    26.1  2.0\n",
       "467  468.0  233.0  220.0  626.0   959.7  2.0\n",
       "468  469.0  226.0  221.0  800.1  1681.5  2.0\n",
       "469  470.0  213.0  218.0  482.6   476.2  2.0\n",
       "\n",
       "[275 rows x 6 columns]"
      ]
     },
     "execution_count": 21,
     "metadata": {},
     "output_type": "execute_result"
    }
   ],
   "source": [
    "wl_iso = walker.dropna()\n",
    "wl_iso"
   ]
  },
  {
   "cell_type": "code",
   "execution_count": 30,
   "metadata": {},
   "outputs": [],
   "source": [
    " s, i, r, p, std = stats.linregress(wl_iso.V,wl_iso.U)"
   ]
  },
  {
   "cell_type": "code",
   "execution_count": 31,
   "metadata": {},
   "outputs": [],
   "source": [
    "def reg_lin (slope,intercept, x):\n",
    "    y = slope*x + intercept\n",
    "    return y"
   ]
  },
  {
   "cell_type": "code",
   "execution_count": 32,
   "metadata": {},
   "outputs": [
    {
     "data": {
      "text/plain": [
       "<function matplotlib.pyplot.show(*args, **kw)>"
      ]
     },
     "execution_count": 32,
     "metadata": {},
     "output_type": "execute_result"
    },
    {
     "data": {
      "image/png": "[encoded data removed]",
      "text/plain": [
       "<Figure size 432x288 with 1 Axes>"
      ]
     },
     "metadata": {
      "needs_background": "light"
     },
     "output_type": "display_data"
    }
   ],
   "source": [
    "plt.scatter(wl_iso.V, wl_iso.U, label='scatter')\n",
    "plt.plot(np.linspace(0, wl_iso.V.max(), 1000), reg_lin(s, i, np.linspace(0, wl_iso.V.max(), 1000)), color = 'r',label = 'U{}*V'.format((round(s,2), round(i,2))))\n",
    "\n",
    "plt.show\n"
   ]
  },
  {
   "cell_type": "code",
   "execution_count": null,
   "metadata": {},
   "outputs": [],
   "source": []
  },
  {
   "cell_type": "code",
   "execution_count": null,
   "metadata": {},
   "outputs": [],
   "source": []
  }
 ],
 "metadata": {
  "kernelspec": {
   "display_name": "Python 3",
   "language": "python",
   "name": "python3"
  },
  "language_info": {
   "codemirror_mode": {
    "name": "ipython",
    "version": 3
   },
   "file_extension": ".py",
   "mimetype": "text/x-python",
   "name": "python",
   "nbconvert_exporter": "python",
   "pygments_lexer": "ipython3",
   "version": "3.7.5"
  }
 },
 "nbformat": 4,
 "nbformat_minor": 2
}
